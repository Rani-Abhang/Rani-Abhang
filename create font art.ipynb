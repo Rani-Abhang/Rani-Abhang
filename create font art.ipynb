{
 "cells": [
  {
   "cell_type": "markdown",
   "metadata": {},
   "source": [
    "# Create Font Art using Python"
   ]
  },
  {
   "cell_type": "markdown",
   "metadata": {},
   "source": [
    "1)Pyfiglet Library use in python for visualize the output of your program in amazing font style.\n",
    "2)install:- pip install pyfiglet\n",
    "3)for different font:-www.figlet.org"
   ]
  },
  {
   "cell_type": "code",
   "execution_count": 1,
   "metadata": {},
   "outputs": [
    {
     "name": "stdout",
     "output_type": "stream",
     "text": [
      " _                     ____        _   _                 \n",
      "| |    _____   _____  |  _ \\ _   _| |_| |__   ___  _ __  \n",
      "| |   / _ \\ \\ / / _ \\ | |_) | | | | __| '_ \\ / _ \\| '_ \\ \n",
      "| |__| (_) \\ V /  __/ |  __/| |_| | |_| | | | (_) | | | |\n",
      "|_____\\___/ \\_/ \\___| |_|    \\__, |\\__|_| |_|\\___/|_| |_|\n",
      "                             |___/                       \n",
      "\n"
     ]
    }
   ],
   "source": [
    "import pyfiglet\n",
    "font = pyfiglet.figlet_format('Love Python')\n",
    "print(font)"
   ]
  },
  {
   "cell_type": "code",
   "execution_count": 15,
   "metadata": {
    "scrolled": true
   },
   "outputs": [
    {
     "name": "stdout",
     "output_type": "stream",
     "text": [
      "                                                                \n",
      "                                                                \n",
      "LLLLLLLLLLL                                                     \n",
      "L:::::::::L                                                     \n",
      "L:::::::::L                                                     \n",
      "LL:::::::LL                                                     \n",
      "  L:::::L                  ooooooooooo vvvvvvv           vvvvvvv\n",
      "  L:::::L                oo:::::::::::oov:::::v         v:::::v \n",
      "  L:::::L               o:::::::::::::::ov:::::v       v:::::v  \n",
      "  L:::::L               o:::::ooooo:::::o v:::::v     v:::::v   \n",
      "  L:::::L               o::::o     o::::o  v:::::v   v:::::v    \n",
      "  L:::::L               o::::o     o::::o   v:::::v v:::::v     \n",
      "  L:::::L               o::::o     o::::o    v:::::v:::::v      \n",
      "  L:::::L         LLLLLLo::::o     o::::o     v:::::::::v       \n",
      "LL:::::::LLLLLLLLL:::::Lo:::::ooooo:::::o      v:::::::v        \n",
      "L::::::::::::::::::::::Lo:::::::::::::::o       v:::::v         \n",
      "L::::::::::::::::::::::L oo:::::::::::oo         v:::v          \n",
      "LLLLLLLLLLLLLLLLLLLLLLLL   ooooooooooo            vvv           \n",
      "                                                                \n",
      "                                                                \n",
      "                                                                \n",
      "                                                                \n",
      "                                                                \n",
      "                                                                \n",
      "                                                                \n",
      "                    \n",
      "                    \n",
      "                    \n",
      "                    \n",
      "                    \n",
      "                    \n",
      "    eeeeeeeeeeee    \n",
      "  ee::::::::::::ee  \n",
      " e::::::eeeee:::::ee\n",
      "e::::::e     e:::::e\n",
      "e:::::::eeeee::::::e\n",
      "e:::::::::::::::::e \n",
      "e::::::eeeeeeeeeee  \n",
      "e:::::::e           \n",
      "e::::::::e          \n",
      " e::::::::eeeeeeee  \n",
      "  ee:::::::::::::e  \n",
      "    eeeeeeeeeeeeee  \n",
      "                    \n",
      "                    \n",
      "                    \n",
      "                    \n",
      "                    \n",
      "                    \n",
      "                    \n",
      "                                                                    \n",
      "                                                                    \n",
      "PPPPPPPPPPPPPPPPP                                     tttt          \n",
      "P::::::::::::::::P                                 ttt:::t          \n",
      "P::::::PPPPPP:::::P                                t:::::t          \n",
      "PP:::::P     P:::::P                               t:::::t          \n",
      "  P::::P     P:::::Pyyyyyyy           yyyyyyyttttttt:::::ttttttt    \n",
      "  P::::P     P:::::P y:::::y         y:::::y t:::::::::::::::::t    \n",
      "  P::::PPPPPP:::::P   y:::::y       y:::::y  t:::::::::::::::::t    \n",
      "  P:::::::::::::PP     y:::::y     y:::::y   tttttt:::::::tttttt    \n",
      "  P::::PPPPPPPPP        y:::::y   y:::::y          t:::::t          \n",
      "  P::::P                 y:::::y y:::::y           t:::::t          \n",
      "  P::::P                  y:::::y:::::y            t:::::t          \n",
      "  P::::P                   y:::::::::y             t:::::t    tttttt\n",
      "PP::::::PP                  y:::::::y              t::::::tttt:::::t\n",
      "P::::::::P                   y:::::y               tt::::::::::::::t\n",
      "P::::::::P                  y:::::y                  tt:::::::::::tt\n",
      "PPPPPPPPPP                 y:::::y                     ttttttttttt  \n",
      "                          y:::::y                                   \n",
      "                         y:::::y                                    \n",
      "                        y:::::y                                     \n",
      "                       y:::::y                                      \n",
      "                      yyyyyyy                                       \n",
      "                                                                    \n",
      "                                                                    \n",
      "                                                       \n",
      "                                                       \n",
      "hhhhhhh                                                \n",
      "h:::::h                                                \n",
      "h:::::h                                                \n",
      "h:::::h                                                \n",
      " h::::h hhhhh          ooooooooooo   nnnn  nnnnnnnn    \n",
      " h::::hh:::::hhh     oo:::::::::::oo n:::nn::::::::nn  \n",
      " h::::::::::::::hh  o:::::::::::::::on::::::::::::::nn \n",
      " h:::::::hhh::::::h o:::::ooooo:::::onn:::::::::::::::n\n",
      " h::::::h   h::::::ho::::o     o::::o  n:::::nnnn:::::n\n",
      " h:::::h     h:::::ho::::o     o::::o  n::::n    n::::n\n",
      " h:::::h     h:::::ho::::o     o::::o  n::::n    n::::n\n",
      " h:::::h     h:::::ho::::o     o::::o  n::::n    n::::n\n",
      " h:::::h     h:::::ho:::::ooooo:::::o  n::::n    n::::n\n",
      " h:::::h     h:::::ho:::::::::::::::o  n::::n    n::::n\n",
      " h:::::h     h:::::h oo:::::::::::oo   n::::n    n::::n\n",
      " hhhhhhh     hhhhhhh   ooooooooooo     nnnnnn    nnnnnn\n",
      "                                                       \n",
      "                                                       \n",
      "                                                       \n",
      "                                                       \n",
      "                                                       \n",
      "                                                       \n",
      "                                                       \n",
      "\n"
     ]
    }
   ],
   "source": [
    "# using the font parameter\n",
    "import pyfiglet\n",
    "f=(pyfiglet.figlet_format('Love Python',font =\"doh\"))\n",
    "print(f)\n"
   ]
  },
  {
   "cell_type": "code",
   "execution_count": null,
   "metadata": {},
   "outputs": [],
   "source": []
  }
 ],
 "metadata": {
  "kernelspec": {
   "display_name": "Python 3",
   "language": "python",
   "name": "python3"
  },
  "language_info": {
   "codemirror_mode": {
    "name": "ipython",
    "version": 3
   },
   "file_extension": ".py",
   "mimetype": "text/x-python",
   "name": "python",
   "nbconvert_exporter": "python",
   "pygments_lexer": "ipython3",
   "version": "3.8.5"
  }
 },
 "nbformat": 4,
 "nbformat_minor": 4
}
